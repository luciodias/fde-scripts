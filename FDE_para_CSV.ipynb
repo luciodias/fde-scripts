{
 "cells": [
  {
   "cell_type": "code",
   "execution_count": 1,
   "id": "fab2fe67-41de-4ca8-b834-539b591905aa",
   "metadata": {},
   "outputs": [],
   "source": [
    "import pymupdf\n",
    "import pandas as pd\n",
    "file = 'Tabela de Preços Sintética outubro 2024.pdf' #'path_to_FDE_file.pdf'\n",
    "cols = ['Serviço','Descrição','Unidade','Valor']"
   ]
  },
  {
   "cell_type": "code",
   "execution_count": 2,
   "id": "46bead6c-0705-4dfc-bdac-2eb5670974a2",
   "metadata": {},
   "outputs": [],
   "source": [
    "#Abre o PDF\n",
    "doc = pymupdf.open(file)\n",
    "#Inicia o Dataframe\n",
    "dados = None\n",
    "#Loop pelas péginas\n",
    "for page in doc:\n",
    "    tabs = page.find_tables()\n",
    "    if tabs:\n",
    "        for tab in tabs:\n",
    "            if dados is None:\n",
    "                dados = pd.DataFrame.from_records(tab.extract(),columns=cols)\n",
    "            else:\n",
    "                dados = pd.concat([\n",
    "                    dados,\n",
    "                    pd.DataFrame.from_records(tab.extract(),columns=cols)\n",
    "                ])\n",
    "#Configuração CSV para Excel em PT-BR\n",
    "dados.to_csv(\"fde.csv\",\n",
    "             index=False,\n",
    "             sep=';',\n",
    "             encoding='cp1252')   "
   ]
  }
 ],
 "metadata": {
  "kernelspec": {
   "display_name": "Python 3 (ipykernel)",
   "language": "python",
   "name": "python3"
  },
  "language_info": {
   "codemirror_mode": {
    "name": "ipython",
    "version": 3
   },
   "file_extension": ".py",
   "mimetype": "text/x-python",
   "name": "python",
   "nbconvert_exporter": "python",
   "pygments_lexer": "ipython3",
   "version": "3.12.4"
  }
 },
 "nbformat": 4,
 "nbformat_minor": 5
}
